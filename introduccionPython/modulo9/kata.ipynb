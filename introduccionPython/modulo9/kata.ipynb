{
 "cells": [
  {
   "cell_type": "markdown",
   "metadata": {},
   "source": [
    "## Ejercicio 1: Trabajar con argumentos en funciones"
   ]
  },
  {
   "cell_type": "code",
   "execution_count": 1,
   "metadata": {},
   "outputs": [
    {
     "name": "stdout",
     "output_type": "stream",
     "text": [
      "Reporte de combustible:\n",
      "    Promedio: 78.0%\n",
      "    Tanque 1: 88%\n",
      "    Tanque 2: 76%\n",
      "    Tanque 3: 70% \n",
      "    \n"
     ]
    }
   ],
   "source": [
    "def promedio(valores):\n",
    "    suma = sum(valores)\n",
    "    total_valores = len(valores)\n",
    "    return suma / total_valores\n",
    "\n",
    "def generar_reporte(tanque_1, tanque_2, tanque_3):\n",
    "    return f\"\"\"Reporte de combustible:\n",
    "    Promedio: {promedio([tanque_1, tanque_2, tanque_3])}%\n",
    "    Tanque 1: {tanque_1}%\n",
    "    Tanque 2: {tanque_2}%\n",
    "    Tanque 3: {tanque_3}% \n",
    "    \"\"\"\n",
    "\n",
    "print(generar_reporte(88, 76, 70))"
   ]
  },
  {
   "cell_type": "markdown",
   "metadata": {},
   "source": [
    "## Ejercicio : Trabajar con argumentos de palabras clave en funciones"
   ]
  },
  {
   "cell_type": "code",
   "execution_count": 5,
   "metadata": {},
   "outputs": [
    {
     "name": "stdout",
     "output_type": "stream",
     "text": [
      "\n",
      "    Destino de la misión: Jupiter\n",
      "    Tiempo de viaje: 74 minutos\n",
      "    Total fuel left: 500000\n",
      "    Tanque1 --> 300000 galones\n",
      "Tanque2 --> 200000 galones\n",
      "\n"
     ]
    }
   ],
   "source": [
    "def reporte_de_mision(destino, *minutos, **reservas_combustible):\n",
    "    reporte = f\"\"\"\n",
    "    Destino de la misión: {destino}\n",
    "    Tiempo de viaje: {sum(minutos)} minutos\n",
    "    Total fuel left: {sum(reservas_combustible.values())}\n",
    "    \"\"\"\n",
    "    for tanque, galones in reservas_combustible.items():\n",
    "        reporte += f\"{tanque} --> {galones} galones\\n\"\n",
    "    return reporte\n",
    "\n",
    "print(reporte_de_mision(\"Jupiter\", 8, 11, 55, Tanque1=300000, Tanque2=200000))"
   ]
  }
 ],
 "metadata": {
  "interpreter": {
   "hash": "085635c7bab703e7bb5a41fe64c7278518d529ae783e191374674f75ba478b45"
  },
  "kernelspec": {
   "display_name": "Python 3.10.0 64-bit",
   "language": "python",
   "name": "python3"
  },
  "language_info": {
   "codemirror_mode": {
    "name": "ipython",
    "version": 3
   },
   "file_extension": ".py",
   "mimetype": "text/x-python",
   "name": "python",
   "nbconvert_exporter": "python",
   "pygments_lexer": "ipython3",
   "version": "3.10.0"
  },
  "orig_nbformat": 4
 },
 "nbformat": 4,
 "nbformat_minor": 2
}
