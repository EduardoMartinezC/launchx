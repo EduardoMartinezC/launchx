{
 "cells": [
  {
   "cell_type": "markdown",
   "metadata": {},
   "source": [
    "## Ejercicio 1\n",
    "Para este ejercicio, escribirás una lógica condicional que imprima una advertencia si un asteroide se acerca a la Tierra demasiado rápido. La velocidad del asteroide varía dependiendo de lo cerca que esté del sol, y cualquier velocidad superior a 25 kilómetros por segundo (km/s) merece una advertencia.\n",
    "\n",
    "Un asteroide se acerca, y viaja a una velocidad de 49 km/s."
   ]
  },
  {
   "cell_type": "code",
   "execution_count": 3,
   "metadata": {},
   "outputs": [
    {
     "name": "stdout",
     "output_type": "stream",
     "text": [
      "PELIGRO! Asteroide aproximándose demasiado rápido\n"
     ]
    }
   ],
   "source": [
    "velocidad_asteroide = 30\n",
    "if velocidad_asteroide > 25:\n",
    "    print('PELIGRO! Asteroide aproximándose demasiado rápido')\n",
    "else:\n",
    "    print('Sin peligro alguno')"
   ]
  },
  {
   "cell_type": "markdown",
   "metadata": {},
   "source": [
    "## Ejercicio 2\n",
    "Si un asteroide entra en la atmósfera de la Tierra a una velocidad mayor o igual a 20 km/s, a veces produce un rayo de luz que se puede ver desde la Tierra. Escribe la lógica condicional que usa declaraciones if, else, y elif para alertar a las personas de todo el mundo que deben buscar un asteroide en el cielo. ¡Hay uno que se dirige a la tierra ahora a una velocidad de 19 km/s!"
   ]
  },
  {
   "cell_type": "code",
   "execution_count": 4,
   "metadata": {},
   "outputs": [
    {
     "name": "stdout",
     "output_type": "stream",
     "text": [
      "Mira al cielo! Se ve un haz de luz brillante!\n"
     ]
    }
   ],
   "source": [
    "velocidad_asteroide = 21\n",
    "if velocidad_asteroide<20:\n",
    "    print('No se puede apreciar nada en el cielo')\n",
    "elif velocidad_asteroide ==  20:\n",
    "    print('Mira al cielo! Se ve un haz de luz brillante!')\n",
    "else:\n",
    "    print('Mira al cielo! Se ve un haz de luz brillante!')"
   ]
  },
  {
   "cell_type": "markdown",
   "metadata": {},
   "source": [
    "## Ejercicio 3\n",
    "En este ejercicio, aprenderás información más matizada sobre cuándo los asteroides representan un peligro para la Tierra, y utilizarás esa información para mejorar nuestro sistema de advertencia. Aquí está la nueva información que necesitas saber:\n",
    "\n",
    "*Los asteroides de menos de 25 metros en su dimensión más grande probablemente se quemarán a medida que entren en la atmósfera de la Tierra.\n",
    "\n",
    "    Si una pieza de un asteroide que es más grande que 25 metros pero más pequeña que 1000 metros golpeara la Tierra, causaría mucho daño.\n",
    "\n",
    "También discutimos en el ejercicio anterior que:\n",
    "\n",
    "    La velocidad del asteroide varía en función de lo cerca que esté del sol, y cualquier velocidad superior a 25 kilómetros por segundo (km/s) merece una advertencia.\n",
    "    Si un asteroide entra en la atmósfera de la Tierra a una velocidad mayor o igual a 20 km/s, a veces produce un rayo de luz que se puede ver desde la Tierra.\n",
    "\n",
    "Usando toda esta información, escribe un programa que emita la advertencia o información correcta a la gente de la Tierra, según la velocidad y el tamaño de un asteroide. Utiliza instrucciones if, else, y elif, así como los operadores and y or."
   ]
  },
  {
   "cell_type": "code",
   "execution_count": 5,
   "metadata": {},
   "outputs": [
    {
     "name": "stdout",
     "output_type": "stream",
     "text": [
      "PELIGRO! Amenaza inminente de asteroide acercandose a gran velocidad\n"
     ]
    }
   ],
   "source": [
    "velocidad_asteroide = 34\n",
    "tamano_asteroide_metros = 45\n",
    "if velocidad_asteroide > 25 and tamano_asteroide_metros > 25:\n",
    "    print('PELIGRO! Amenaza inminente de asteroide acercandose a gran velocidad')\n",
    "elif velocidad_asteroide >=20:\n",
    "    print('Mira al cielo! Se ve un haz de luz brillante!')\n",
    "else:\n",
    "    print('No se puede apreciar nada en el cielo')"
   ]
  }
 ],
 "metadata": {
  "interpreter": {
   "hash": "085635c7bab703e7bb5a41fe64c7278518d529ae783e191374674f75ba478b45"
  },
  "kernelspec": {
   "display_name": "Python 3.10.0 64-bit",
   "language": "python",
   "name": "python3"
  },
  "language_info": {
   "codemirror_mode": {
    "name": "ipython",
    "version": 3
   },
   "file_extension": ".py",
   "mimetype": "text/x-python",
   "name": "python",
   "nbconvert_exporter": "python",
   "pygments_lexer": "ipython3",
   "version": "3.10.0"
  },
  "orig_nbformat": 4
 },
 "nbformat": 4,
 "nbformat_minor": 2
}
