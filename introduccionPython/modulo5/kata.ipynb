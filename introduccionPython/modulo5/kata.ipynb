{
 "cells": [
  {
   "cell_type": "markdown",
   "metadata": {},
   "source": [
    "## Ejercicio 1 - Utilizar operadores aritméticos\n",
    "\n",
    "Exploremos cómo podemos crear un programa que pueda calcular la distancia entre dos planetas. Comenzaremos usando dos distancias de planetas: Tierra (149.597.870 km) y Júpiter (778.547.200 km).\n",
    "\n",
    "Con los valores obtenidos, es el momento de añadir el código para realizar la operación. Restarás el primer planeta del segundo para determinar la distancia en kilómetros. A continuación, puedes convertir la distancia del kilómetro en millas multiplicándola por 0.621."
   ]
  },
  {
   "cell_type": "code",
   "execution_count": 1,
   "metadata": {},
   "outputs": [
    {
     "name": "stdout",
     "output_type": "stream",
     "text": [
      "628949330\n",
      "390577533.93\n"
     ]
    }
   ],
   "source": [
    "distancia_planeta_tierra = 149597870\n",
    "distancia_planeta_jupiter = 778547200\n",
    "\n",
    "distancia_km = distancia_planeta_jupiter - distancia_planeta_tierra\n",
    "\n",
    "print(distancia_km)\n",
    "\n",
    "distancia_millas = distancia_km * 0.621\n",
    "\n",
    "print(distancia_millas)"
   ]
  },
  {
   "cell_type": "markdown",
   "metadata": {},
   "source": [
    "## Ejercicio 2 - Convierte cadenas en números y usa valores absolutos\n",
    "\n",
    "Ejercicio similar al anterior, solo que esta vez se ingresarán las distancias de dos planetas a través del teclado y se aplicarán conversiones de entrada de cadena a entero y se aplicará la función de valor absoluto en caso de valores negativos\n"
   ]
  },
  {
   "cell_type": "code",
   "execution_count": 2,
   "metadata": {},
   "outputs": [
    {
     "name": "stdout",
     "output_type": "stream",
     "text": [
      "1325300000\n",
      "823011300.0\n"
     ]
    }
   ],
   "source": [
    "distancia_planeta1 = int(input('Ingrese la distancia al sol del planeta 1: '))\n",
    "distancia_planeta2 = int(input('Ingrese la distancia al sol del planeta 2: '))\n",
    "\n",
    "distancia_km = abs(distancia_planeta2 - distancia_planeta1)\n",
    "\n",
    "print(distancia_km)\n",
    "\n",
    "distancia_millas = distancia_km * 0.621\n",
    "\n",
    "print(distancia_millas)"
   ]
  }
 ],
 "metadata": {
  "interpreter": {
   "hash": "085635c7bab703e7bb5a41fe64c7278518d529ae783e191374674f75ba478b45"
  },
  "kernelspec": {
   "display_name": "Python 3.10.0 64-bit",
   "language": "python",
   "name": "python3"
  },
  "language_info": {
   "codemirror_mode": {
    "name": "ipython",
    "version": 3
   },
   "file_extension": ".py",
   "mimetype": "text/x-python",
   "name": "python",
   "nbconvert_exporter": "python",
   "pygments_lexer": "ipython3",
   "version": "3.10.0"
  },
  "orig_nbformat": 4
 },
 "nbformat": 4,
 "nbformat_minor": 2
}
