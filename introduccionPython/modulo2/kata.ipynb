{
 "cells": [
  {
   "cell_type": "markdown",
   "metadata": {},
   "source": [
    "## Instalar una biblioteca en un ambiente virtual\n",
    "\n",
    "Para esta kata se creó un ambiente virtual utilizando el comando \"python -m venv env\", se activ; utilizando el comando desde el directorio donde fué creado \"source env/bin/activate\",se instaló la biblioteca utilizando el comando \"pip install python-dateutil\", finalmente se listó el conjunto de bibliotecas instaladas utilizando el comando \"pip freeze\" y se desactivó el entorno virtual utilizando el comando \"deactivate\"."
   ]
  }
 ],
 "metadata": {
  "language_info": {
   "name": "python"
  },
  "orig_nbformat": 4
 },
 "nbformat": 4,
 "nbformat_minor": 2
}
